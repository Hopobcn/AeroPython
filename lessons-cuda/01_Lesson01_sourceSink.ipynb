{
 "cells": [
  {
   "cell_type": "raw",
   "metadata": {},
   "source": [
    "Content provided under a Creative Commons Attribution license, CC-BY 4.0; code under MIT License. (c)2014 Lorena A. Barba, Olivier Mesnard. Thanks: NSF for support via CAREER award #1149784."
   ]
  },
  {
   "cell_type": "markdown",
   "metadata": {},
   "source": [
    "[@LorenaABarba](https://twitter.com/LorenaABarba)"
   ]
  },
  {
   "cell_type": "markdown",
   "metadata": {},
   "source": [
    "##### Version 0.2 -- March 2014"
   ]
  },
  {
   "cell_type": "markdown",
   "metadata": {},
   "source": [
    "# Source & Sink"
   ]
  },
  {
   "cell_type": "markdown",
   "metadata": {},
   "source": [
    "This is the first notebook of the *AeroPython* series, for classical Aerodynamics using Python. If you are not familiar with numerical computing using Python, be sure to first study the [*Python Crash Course*](http://nbviewer.ipython.org/github/barbagroup/AeroPython/blob/master/lessons/00_Lesson00_QuickPythonIntro.ipynb), provided as \"lesson zero\" of this series.\n",
    "\n",
    "To execute this Notebook on your machine, first navigate on your console or terminal to the folder that contains the .ipynb file. Then invoke the notebook server as follows: \n",
    "\n",
    "`ipython notebook`\n",
    "\n",
    "You can also read and follow along this notebook online, while typing the code into your interactive IPython prompt, or into a .py file on your favorite Python editor. Either way, make sure that you try out the codes and write your own versions!"
   ]
  },
  {
   "cell_type": "markdown",
   "metadata": {},
   "source": [
    "## Overview"
   ]
  },
  {
   "cell_type": "markdown",
   "metadata": {},
   "source": [
    "The theoretical basis for classical Aerodynamics is *potential-flow theory*, a mathematical apparatus that was the life-blood of aerodynamics through its growth to maturity during most of the 20th century.\n",
    "\n",
    "It all starts with making some simplifications: \n",
    "\n",
    "* the flow is steady;\n",
    "* the velocity remains smaller than the speed of sound (incompressible flow);\n",
    "* the fluid has no internal friction, i.e., is inviscid; and\n",
    "* it has no vorticity (fluid particles are not rotating). \n",
    "\n",
    "This sounds like a lot of simplifications, does it not? It turns out, a big chunk of aerodynamics can be approximated this way! Viscous effects are normally confined to a very thin boundary layer (and we can correct potential theory to account for that), and many flows are effectively irrotational (except for isolated points, lines or sheets). And finally, most applications that we are interested in do remain sub-sonic.\n",
    "\n",
    "Potential-flow theory has a very pleasant mathematical quality: it is *linear*. This means that the principle of superposition applies, and we can construct new solutions by adding known solutions. \n",
    "\n",
    "In this notebook, you will learn two elementary potential-flow solutions: the **source**, and the **sink**. And, guess what, you will add them together to make a *new* solution called a **source-sink pair**."
   ]
  },
  {
   "cell_type": "markdown",
   "metadata": {},
   "source": [
    "### The math\n",
    "\n",
    "---\n",
    "\n",
    "OK, let's get down some mathematics. First, from your undergraduate fluid mechanics, you should remember the definition of *circulation*:\n",
    "\n",
    "$$\\Gamma = \\oint \\mathbf{v}\\cdot d\\vec{l}$$\n",
    "\n",
    "In words, the circulation is the line integral of velocity around a closed contour. Squeeze your brain and extract the theorem of Stokes. It says that this line integral is equal to the *flux* through the contour of the *curl* of velocity … which is the vorticity, $\\omega=\\nabla\\times\\mathbf{v}$:\n",
    "\n",
    "$$\\oint \\mathbf{v}\\cdot d\\vec{l} = \\int \\int_s \\omega\\cdot \\vec{n}~ ds$$\n",
    "\n",
    "If the vorticity is zero (irrotational flow), so is the circulation around any closed contour equal to zero. This means that the line integral of velocity for any curve going from A to B must be equal and opposite to that of any curve going back from B to A. Expand the dot product in the integral, where the velocity is $\\mathbf{v}=(u,v,w)$ :\n",
    "\n",
    "$$\\int_A^B \\mathbf{v}\\cdot d\\vec{l} = \\int_A^B u~dx + v~dy + w~dz$$\n",
    "\n",
    "In irrotational flow, it doesn't matter what path you take, this line integral from A to B is always the same value. Now, if you remember your vector calculus, this means that $u~dx + v~dy + w~dz~$ is an [exact differential](http://www.wolframalpha.com/input/?i=exact+differential) of a potential $\\phi$, where\n",
    "\n",
    "$$u=\\frac{\\partial \\phi}{\\partial x}, \\quad v=\\frac{\\partial \\phi}{\\partial y}, \\quad w=\\frac{\\partial \\phi}{\\partial z}$$\n",
    "\n",
    "Or, for short: $\\mathbf{v}=\\nabla \\phi$. Applying the continuity equation for incompressible flow, $\\nabla\\cdot\\mathbf{v}=0$, we get the beautifully simple governing equation of potential flow:\n",
    "\n",
    "$$\\nabla^2\\phi=0$$\n",
    "\n",
    "*Laplace's equation!* So any solution to Laplace can be a potential flow, and here we go.\n"
   ]
  },
  {
   "cell_type": "markdown",
   "metadata": {},
   "source": [
    "## Let's get started!"
   ]
  },
  {
   "cell_type": "markdown",
   "metadata": {},
   "source": [
    "We want to numerically express the flow field of a **source** and a **sink**, two potential flow solutions, so we can plot these flows and admire them.\n",
    "\n",
    "Start by importing some Python libraries to help you out:\n",
    "\n",
    "* NumPy is a scientific library to create and manage multi-dimensional arrays and matrices.\n",
    "* Matplotlib is a 2D plotting library that we will use to visualize our results.\n",
    "* the `math` module provides the mathematical functions defined by the C standard.\n",
    "\n",
    "Go back to our *\"lesson zero,\"* the [Python Crash Course](http://nbviewer.ipython.org/github/barbagroup/AeroPython/blob/master/lessons/00_Lesson00_QuickPythonIntro.ipynb), if you don't remember why and how we import our favorite libraries: "
   ]
  },
  {
   "cell_type": "code",
   "execution_count": 1,
   "metadata": {
    "collapsed": false
   },
   "outputs": [],
   "source": [
    "import math\n",
    "import numpy\n",
    "import math\n",
    "from numba import *              # we import numba library\n",
    "from numbapro import cuda, vectorize, guvectorize, check_cuda\n",
    "from numbapro import void, uint8, uint32, int32, int64, float32, float64, f8\n",
    "from matplotlib import pyplot"
   ]
  },
  {
   "cell_type": "markdown",
   "metadata": {},
   "source": [
    "The objective is to visualize the streamlines corresponding to a source and a sink. To do that, we need to first define a set of points where the velocity components will be computed.\n",
    "\n",
    "Let's define an evenly spaced Cartesian grid of points within a spatial domain that is 4 units of length wide in the $x$-direction and 2 units of length wide in the $y$-direction, i.e. $x,y\\in\\left[-2,2\\right],\\left[-1,1\\right]$.\n",
    "\n",
    "The variable `N` will be the number of points  we want in each direction, and we define the computational boundaries by the variables `x_start`, `x_end`, `y_start` and `y_end`. \n",
    "\n",
    "We use the NumPy function [`linspace()`](http://docs.scipy.org/doc/numpy/reference/generated/numpy.linspace.html) to create two 1D arrays that contain the evenly spaced values of $x$ and $y$ coordinates, corresponding to our grid points. The last line of the code block below calls the [`meshgrid()`](http://docs.scipy.org/doc/numpy-1.4.x/reference/generated/numpy.meshgrid.html) function, which generates arrays containing the coordinates of points where the numerical solution will be calculated. Be sure to study the output of this function and understand what it does! We will use it throughout this course."
   ]
  },
  {
   "cell_type": "code",
   "execution_count": 2,
   "metadata": {
    "collapsed": false
   },
   "outputs": [
    {
     "name": "stdout",
     "output_type": "stream",
     "text": [
      "x =  [-2.         -1.91836735 -1.83673469 -1.75510204 -1.67346939 -1.59183673\n",
      " -1.51020408 -1.42857143 -1.34693878 -1.26530612 -1.18367347 -1.10204082\n",
      " -1.02040816 -0.93877551 -0.85714286 -0.7755102  -0.69387755 -0.6122449\n",
      " -0.53061224 -0.44897959 -0.36734694 -0.28571429 -0.20408163 -0.12244898\n",
      " -0.04081633  0.04081633  0.12244898  0.20408163  0.28571429  0.36734694\n",
      "  0.44897959  0.53061224  0.6122449   0.69387755  0.7755102   0.85714286\n",
      "  0.93877551  1.02040816  1.10204082  1.18367347  1.26530612  1.34693878\n",
      "  1.42857143  1.51020408  1.59183673  1.67346939  1.75510204  1.83673469\n",
      "  1.91836735  2.        ]\n",
      "y =  [-1.         -0.95918367 -0.91836735 -0.87755102 -0.83673469 -0.79591837\n",
      " -0.75510204 -0.71428571 -0.67346939 -0.63265306 -0.59183673 -0.55102041\n",
      " -0.51020408 -0.46938776 -0.42857143 -0.3877551  -0.34693878 -0.30612245\n",
      " -0.26530612 -0.2244898  -0.18367347 -0.14285714 -0.10204082 -0.06122449\n",
      " -0.02040816  0.02040816  0.06122449  0.10204082  0.14285714  0.18367347\n",
      "  0.2244898   0.26530612  0.30612245  0.34693878  0.3877551   0.42857143\n",
      "  0.46938776  0.51020408  0.55102041  0.59183673  0.63265306  0.67346939\n",
      "  0.71428571  0.75510204  0.79591837  0.83673469  0.87755102  0.91836735\n",
      "  0.95918367  1.        ]\n",
      "X =  [[-2.         -1.91836735 -1.83673469 ...,  1.83673469  1.91836735  2.        ]\n",
      " [-2.         -1.91836735 -1.83673469 ...,  1.83673469  1.91836735  2.        ]\n",
      " [-2.         -1.91836735 -1.83673469 ...,  1.83673469  1.91836735  2.        ]\n",
      " ..., \n",
      " [-2.         -1.91836735 -1.83673469 ...,  1.83673469  1.91836735  2.        ]\n",
      " [-2.         -1.91836735 -1.83673469 ...,  1.83673469  1.91836735  2.        ]\n",
      " [-2.         -1.91836735 -1.83673469 ...,  1.83673469  1.91836735  2.        ]]\n",
      "Y =  [[-1.         -1.         -1.         ..., -1.         -1.         -1.        ]\n",
      " [-0.95918367 -0.95918367 -0.95918367 ..., -0.95918367 -0.95918367\n",
      "  -0.95918367]\n",
      " [-0.91836735 -0.91836735 -0.91836735 ..., -0.91836735 -0.91836735\n",
      "  -0.91836735]\n",
      " ..., \n",
      " [ 0.91836735  0.91836735  0.91836735 ...,  0.91836735  0.91836735\n",
      "   0.91836735]\n",
      " [ 0.95918367  0.95918367  0.95918367 ...,  0.95918367  0.95918367\n",
      "   0.95918367]\n",
      " [ 1.          1.          1.         ...,  1.          1.          1.        ]]\n"
     ]
    }
   ],
   "source": [
    "N = 50                                # number of points in each direction\n",
    "x_start, x_end = -2.0, 2.0            # boundaries in the x-direction\n",
    "y_start, y_end = -1.0, 1.0            # boundaries in the y-direction\n",
    "x = numpy.linspace(x_start, x_end, N)    # creates a 1D-array with the x-coordinates\n",
    "y = numpy.linspace(y_start, y_end, N)    # creates a 1D-array with the y-coordinates\n",
    "\n",
    "print('x = ', x)\n",
    "print('y = ', y)\n",
    "\n",
    "X, Y = numpy.meshgrid(x, y)              # generates a mesh grid\n",
    "print('X = ', X)\n",
    "print('Y = ', Y)"
   ]
  },
  {
   "cell_type": "markdown",
   "metadata": {},
   "source": [
    "Now that the mesh grid has been generated, it is time to visualize it with the module `pyplot` from the library `matplotlib` using the alias `plt` and the function [`scatter()`](http://matplotlib.org/api/pyplot_api.html?highlight=scatter#matplotlib.pyplot.scatter).\n",
    "\n",
    "Note that we are getting fancy here and telling Pyplot just how we want the plot: put a label on the $x$-axis and on the $y$-axis, make the figure a certain size, make the axis limits just what *we* want, and even the [color](http://matplotlib.org/api/colors_api.html?highlight=color#module-matplotlib.colors) of the point markers. Learn about all these fancy options on the Python documentation and you will always draw pretty plots.\n",
    "\n",
    "To get the plots inside the notebook, we use the line `%matplotlib inline` first. This simply configures the plotting module to output plots inside the IPython Notebook (instead of a pop-up window):"
   ]
  },
  {
   "cell_type": "code",
   "execution_count": 3,
   "metadata": {
    "collapsed": false
   },
   "outputs": [
    {
     "data": {
      "text/plain": [
       "<matplotlib.collections.PathCollection at 0x7f1ac0686438>"
      ]
     },
     "execution_count": 3,
     "metadata": {},
     "output_type": "execute_result"
    },
    {
     "data": {
      "image/png": "[encoded data removed]",
      "text/plain": [
       "<matplotlib.figure.Figure at 0x7f1ac06eac50>"
      ]
     },
     "metadata": {},
     "output_type": "display_data"
    }
   ],
   "source": [
    "%matplotlib inline\n",
    "\n",
    "# plots the grid of points\n",
    "size = 10\n",
    "pyplot.figure(figsize=(size, (y_end-y_start)/(x_end-x_start)*size))\n",
    "pyplot.xlabel('x', fontsize=16)\n",
    "pyplot.ylabel('y', fontsize=16)\n",
    "pyplot.xlim(x_start, x_end)\n",
    "pyplot.ylim(y_start, y_end)\n",
    "pyplot.scatter(X, Y, s=10, color='#CD2305', marker='o', linewidth=0)"
   ]
  },
  {
   "cell_type": "markdown",
   "metadata": {},
   "source": [
    "On all of those nicely ordered points, we now will calculate the velocity vector corresponding to  a source flow. Then we'll plot the streamlines. Ready?"
   ]
  },
  {
   "cell_type": "markdown",
   "metadata": {},
   "source": [
    "## Source flow"
   ]
  },
  {
   "cell_type": "markdown",
   "metadata": {},
   "source": [
    "We mentioned before the nice quality of potential flow: the governing equation is *linear* and solutions can be built by superposition. For this reason, it is very useful to have a toolbox of elementary solutions that we can use as building blocks. Sources and sinks are such elementary solutions.\n",
    "\n",
    "A *source* is a point from which we imagine that fluid is flowing out, uniformly. Thus, all the streamlines radiate from a single point as straight lines and the radial velocity decreases with the distance from the source point. Let's consider first the purely two-dimensional case. Because of the radial symmetry, it is convenient to use a cylindrical coordinate system, $\\left(r,\\theta\\right)$. The angle $\\theta$ is $\\tan^{-1}(y/x)$. The velocity components (radial and tangential) are:\n",
    "\n",
    "$$u_r\\left(r,\\theta\\right) = \\frac{\\sigma}{2\\pi r} \\text{,} \\qquad u_\\theta\\left(r,\\theta\\right)=0$$\n",
    "\n",
    "where $\\sigma$ represents the source *strength*. That the tangential velocity is zero is obvious from our requirement that the streamlines be radiating straight lines. But how do we get the radial component of velocity? Apply the irrotational-flow condition, $\\omega=0$, in cylindrical coordinates, and you will get that the velocity can only be a function of $r$. Then apply the continuity equation, and you will get the result. Try it! (Go on: paper, pencil …)\n",
    "\n",
    "You probably remember the *stream function* from undergraduate fluid mechanics. But now we are working on cylindrical coordinates. So $\\psi$ is obtained from:\n",
    "\n",
    "$$\\frac{1}{r}\\frac{\\partial\\psi}{\\partial\\theta} = u_r \\quad \\text{,} \\quad -\\frac{\\partial\\psi}{\\partial r} = u_\\theta$$\n",
    "\n",
    "which integrates to\n",
    "\n",
    "$$\\psi = \\frac{\\sigma}{2\\pi}\\theta + \\text{constant}$$\n",
    "\n",
    "In practical problems, we are more interested in the velocity components that are obtained by differentiation of the stream function, so that the constant can be dropped.\n",
    "\n",
    "In Cartesian coordinates, the velocity field $\\left(u,v\\right)$ at position $\\left(x,y\\right)$ corresponding to a source of strength $\\sigma$ located at $\\left(x_\\text{source},y_\\text{source}\\right)$ is given by:\n",
    "\n",
    "$$u = \\frac{\\partial\\psi}{\\partial y} = \\frac{\\sigma}{2\\pi}\\frac{x-x_\\text{source}}{\\left(x-x_\\text{source}\\right)^2+\\left(y-y_\\text{source}\\right)^2}$$\n",
    "\n",
    "and\n",
    "\n",
    "$$v = -\\frac{\\partial\\psi}{\\partial x} = \\frac{\\sigma}{2\\pi}\\frac{y-y_\\text{source}}{\\left(x-x_\\text{source}\\right)^2+\\left(y-y_\\text{source}\\right)^2}$$\n",
    "\n",
    "Let's calculate the velocity field for our grid of points. We'll place the source at the location $(-1,0)$ and give it a strength $\\sigma=5$. \n",
    "\n",
    "Instead of picking one point on the grid and calculate its velocity (which means that we would have to iterate over all positions `[i,j]`), we directly compute velocity arrays (`u_source`, `v_source`) using arithmetic operators on arrays. Yes, with Numpy, arithmetic operators on array apply elementwise and a new array is created and filled with the result."
   ]
  },
  {
   "cell_type": "code",
   "execution_count": 27,
   "metadata": {
    "collapsed": false
   },
   "outputs": [],
   "source": [
    "strength_source = 5.0                      # source strength\n",
    "x_source, y_source = -1.0, 0.0             # location of the source\n",
    "\n",
    "# computes the velocity field on the mesh grid\n",
    "def compute_velocity_cpu(u_source, v_source, X, Y, x_source, y_source, strength_source, N):\n",
    "    u_source = strength_source/(2*math.pi) * (X-x_source)/((X-x_source)**2 + (Y-y_source)**2)\n",
    "    v_source = strength_source/(2*math.pi) * (Y-y_source)/((X-x_source)**2 + (Y-y_source)**2)\n",
    "\n",
    "    return u_source, v_source"
   ]
  },
  {
   "cell_type": "markdown",
   "metadata": {},
   "source": [
    "CUDA version:"
   ]
  },
  {
   "cell_type": "code",
   "execution_count": 28,
   "metadata": {
    "collapsed": false
   },
   "outputs": [],
   "source": [
    "# computes the velocity field on the mesh grid\n",
    "@cuda.jit('void(float32[:,:], float32[:,:], float32[:,:], float32[:,:], float32, float32, float32, int32)')\n",
    "def compute_velocity_gpu_kernel(u_source, v_source, X, Y, x_source, y_source, strength_source, N):\n",
    "    i = cuda.blockIdx.x * cuda.blockDim.x + cuda.threadIdx.x\n",
    "    j = cuda.blockIdx.y * cuda.blockDim.y + cuda.threadIdx.y\n",
    "    \n",
    "    if i >= N or j >= N:\n",
    "        return\n",
    "    \n",
    "    u_source[i,j] = strength_source/(2*math.pi) * (X[i,j]-x_source)/((X[i,j]-x_source)**2 + (Y[i,j]-y_source)**2)\n",
    "    v_source[i,j] = strength_source/(2*math.pi) * (Y[i,j]-y_source)/((X[i,j]-x_source)**2 + (Y[i,j]-y_source)**2)"
   ]
  },
  {
   "cell_type": "code",
   "execution_count": 29,
   "metadata": {
    "collapsed": true
   },
   "outputs": [],
   "source": [
    "def compute_velocity_gpu(u_source, v_source, X, Y, x_source, y_source, strength_source, N):\n",
    "    stream = cuda.stream()\n",
    "    \n",
    "    # transfer from host to device\n",
    "    X_d = cuda.to_device(X, stream)\n",
    "    Y_d = cuda.to_device(Y, stream)\n",
    "    \n",
    "    # assign storage on device for output\n",
    "    u_source_d = cuda.device_array_like(u_source)\n",
    "    v_source_d = cuda.device_array_like(v_source)\n",
    "    \n",
    "    # set kernel dimensions\n",
    "    blockDim = 16, 16\n",
    "    gridDim  = int(numpy.ceil(float(N)/blockDim[0])), \\\n",
    "               int(numpy.ceil(float(N)/blockDim[1]))\n",
    "    print('Thread-block dim ', blockDim)\n",
    "    print('Grid dim         ', gridDim)\n",
    "    \n",
    "    # kernel launch\n",
    "    compute_velocity_gpu_kernel[gridDim,blockDim,stream](u_source_d, v_source_d, X_d, Y_d, \\\n",
    "                                                         x_source, y_source, strength_source, N)\n",
    "\n",
    "    # transfer results to host\n",
    "    u_source_d.copy_to_host(u_source, stream=stream)\n",
    "    v_source_d.copy_to_host(v_source, stream=stream)\n",
    "    \n",
    "    print('u_source = ', u_source)\n",
    "\n",
    "    return u_source, v_source"
   ]
  },
  {
   "cell_type": "code",
   "execution_count": 30,
   "metadata": {
    "collapsed": false
   },
   "outputs": [
    {
     "name": "stdout",
     "output_type": "stream",
     "text": [
      "Thread-block dim  (16, 16)\n",
      "Grid dim          (4, 4)\n",
      "u_source =  [[  7.95774698e-01  -2.22511750e-33  -4.27095072e-27 ...,  -4.27095110e-27\n",
      "   -2.22511750e-33   7.95774698e-01]\n",
      " [  0.00000000e+00  -1.11255875e-33  -1.15926059e-39 ...,  -1.15926059e-39\n",
      "   -1.11255875e-33   0.00000000e+00]\n",
      " [  0.00000000e+00  -2.22511750e-33  -2.13547536e-27 ...,  -2.13547536e-27\n",
      "   -2.22511750e-33   0.00000000e+00]\n",
      " ..., \n",
      " [  0.00000000e+00  -2.22511750e-33  -2.13547555e-27 ...,  -2.13547555e-27\n",
      "   -2.22511750e-33   0.00000000e+00]\n",
      " [  0.00000000e+00  -1.11255875e-33  -1.15926059e-39 ...,  -1.15926059e-39\n",
      "   -1.11255875e-33   0.00000000e+00]\n",
      " [  7.95774698e-01  -2.22511750e-33  -4.27095072e-27 ...,  -4.27095110e-27\n",
      "   -2.22511750e-33   7.95774698e-01]]\n",
      "u_source =  [[  7.95774698e-01  -2.22511750e-33  -4.27095072e-27 ...,  -4.27095110e-27\n",
      "   -2.22511750e-33   7.95774698e-01]\n",
      " [  0.00000000e+00  -1.11255875e-33  -1.15926059e-39 ...,  -1.15926059e-39\n",
      "   -1.11255875e-33   0.00000000e+00]\n",
      " [  0.00000000e+00  -2.22511750e-33  -2.13547536e-27 ...,  -2.13547536e-27\n",
      "   -2.22511750e-33   0.00000000e+00]\n",
      " ..., \n",
      " [  0.00000000e+00  -2.22511750e-33  -2.13547555e-27 ...,  -2.13547555e-27\n",
      "   -2.22511750e-33   0.00000000e+00]\n",
      " [  0.00000000e+00  -1.11255875e-33  -1.15926059e-39 ...,  -1.15926059e-39\n",
      "   -1.11255875e-33   0.00000000e+00]\n",
      " [  7.95774698e-01  -2.22511750e-33  -4.27095072e-27 ...,  -4.27095110e-27\n",
      "   -2.22511750e-33   7.95774698e-01]]\n"
     ]
    }
   ],
   "source": [
    "u_source = numpy.empty((N,N), dtype=numpy.float32)\n",
    "v_source = numpy.empty((N,N), dtype=numpy.float32)\n",
    "\n",
    "#u_source, v_source = compute_velocity_cpu(u_source, v_source, X, Y, x_source, y_source, strength_source, N)\n",
    "u_source, v_source = compute_velocity_gpu(u_source, v_source, X, Y, x_source, y_source, strength_source, N)\n",
    "\n",
    "print('u_source = ', u_source)"
   ]
  },
  {
   "cell_type": "markdown",
   "metadata": {},
   "source": [
    "Let's plot the stream lines already! We are lucky that the contributors to the open Python world have added a [`streamplot()`](http://matplotlib.org/users/whats_new.html#streamplot) function that does it all. We'll also use the [`scatter()`](http://matplotlib.org/api/pyplot_api.html?highlight=scatter#matplotlib.pyplot.scatter) function to put a red dot right on the source."
   ]
  },
  {
   "cell_type": "code",
   "execution_count": 22,
   "metadata": {
    "collapsed": false
   },
   "outputs": [
    {
     "data": {
      "image/png": "[encoded data removed]",
      "text/plain": [
       "<matplotlib.figure.Figure at 0x7f1ab5368780>"
      ]
     },
     "metadata": {},
     "output_type": "display_data"
    }
   ],
   "source": [
    "# plotting the streamlines\n",
    "size = 10\n",
    "pyplot.figure(figsize=(size, (y_end-y_start)/(x_end-x_start)*size))\n",
    "pyplot.xlabel('x', fontsize=16)\n",
    "pyplot.ylabel('y', fontsize=16)\n",
    "pyplot.xlim(x_start, x_end)\n",
    "pyplot.ylim(y_start, y_end)\n",
    "pyplot.streamplot(X, Y, u_source, v_source, density=2, linewidth=1, arrowsize=2, arrowstyle='->')\n",
    "pyplot.scatter(x_source, y_source, color='#CD2305', s=80, marker='o', linewidth=0);"
   ]
  },
  {
   "cell_type": "markdown",
   "metadata": {},
   "source": [
    "Cool. Just like we thought a source should look, only prettier. Note that we added a semicolon on the lastest instruction of the cell above, to suppress the display of the object's instance.\n",
    "\n",
    "We recommend that after following this notebook carefully, you prepare your own Python code separately, following our example. *Type* the code (instead of copying and pasting), so you assimilate what you are doing. Try things out, change parameters, read the Python documentation when needed. Remember, we will build more complicated flow solutions later on, so be sure to get a good foundation."
   ]
  },
  {
   "cell_type": "markdown",
   "metadata": {},
   "source": [
    "##### Challenge question"
   ]
  },
  {
   "cell_type": "markdown",
   "metadata": {},
   "source": [
    "What is the total mass flux outwards of a small closed surface around the source?"
   ]
  },
  {
   "cell_type": "markdown",
   "metadata": {},
   "source": [
    "## Sink flow"
   ]
  },
  {
   "cell_type": "markdown",
   "metadata": {},
   "source": [
    "In the source flow, the strength $\\sigma$ was chosen to be positive. A source with a *negative* strength is called a *sink*. Instead of radiating from a single point, the straight streamlines are now converging to a single point.\n",
    "\n",
    "The velocity field corresponding to a sink looks similar to that of a source, except for the direction of the flow. Thus, the Python code requires very few modifications.\n",
    "\n",
    "We will place the sink at the location $(1,0)$ and give it an equal strength to our source, but negative of course."
   ]
  },
  {
   "cell_type": "code",
   "execution_count": null,
   "metadata": {
    "collapsed": false
   },
   "outputs": [],
   "source": [
    "strength_sink = -5.0                     # strength of the sink\n",
    "x_sink, y_sink = 1.0, 0.0                # location of the sink\n",
    "\n",
    "# computes the velocity on the mesh grid\n",
    "u_sink = strength_sink/(2*math.pi) * (X-x_sink)/((X-x_sink)**2 + (Y-y_sink)**2)\n",
    "v_sink = strength_sink/(2*math.pi) * (Y-y_sink)/((X-x_sink)**2 + (Y-y_sink)**2)"
   ]
  },
  {
   "cell_type": "code",
   "execution_count": null,
   "metadata": {
    "collapsed": false
   },
   "outputs": [],
   "source": [
    "# plots the streamlines\n",
    "size = 10\n",
    "pyplot.figure(figsize=(size, (y_end-y_start)/(x_end-x_start)*size))\n",
    "pyplot.xlabel('x', fontsize=16)\n",
    "pyplot.ylabel('y', fontsize=16)\n",
    "pyplot.xlim(x_start, x_end)\n",
    "pyplot.ylim(y_start, y_end)\n",
    "pyplot.streamplot(X, Y, u_sink, v_sink, density=2, linewidth=1, arrowsize=2, arrowstyle='->')\n",
    "pyplot.scatter(x_sink, y_sink, color='#CD2305', s=80, marker='o', linewidth=0);"
   ]
  },
  {
   "cell_type": "markdown",
   "metadata": {},
   "source": [
    "## Source-sink pair"
   ]
  },
  {
   "cell_type": "markdown",
   "metadata": {},
   "source": [
    "Now, let's exercise our superposition powers. We already have the velocity field of the source and the velocity field of the sink. We can just add these velocity fields, point wise, to get a new solution of potential flow: the **source-sink pair**. Read this code carefully and make sure you understand what it's doing!"
   ]
  },
  {
   "cell_type": "code",
   "execution_count": null,
   "metadata": {
    "collapsed": false
   },
   "outputs": [],
   "source": [
    "# computes the velocity of the pair source/sink by superposition\n",
    "u_pair = u_source + u_sink\n",
    "v_pair = v_source + v_sink\n",
    "\n",
    "# plots the streamlines of the pair source/sink\n",
    "size = 10\n",
    "pyplot.figure(figsize=(size, (y_end-y_start)/(x_end-x_start)*size))\n",
    "pyplot.xlabel('x', fontsize=16)\n",
    "pyplot.ylabel('y', fontsize=16)\n",
    "pyplot.xlim(x_start, x_end)\n",
    "pyplot.ylim(y_start, y_end)\n",
    "pyplot.streamplot(X, Y, u_pair, v_pair, density=2.0, linewidth=1, arrowsize=2, arrowstyle='->')\n",
    "pyplot.scatter([x_source, x_sink], [y_source, y_sink], \n",
    "            color='#CD2305', s=80, marker='o', linewidth=0);"
   ]
  },
  {
   "cell_type": "markdown",
   "metadata": {},
   "source": [
    "Change things around! Move the location of the source and sink, make them stronger. What happens?\n"
   ]
  },
  {
   "cell_type": "markdown",
   "metadata": {},
   "source": [
    "##### Challenge task"
   ]
  },
  {
   "cell_type": "markdown",
   "metadata": {},
   "source": [
    "Write your own code for plotting the *potential lines*, instead of the stream lines. You might want to use the [`contour()`](http://matplotlib.org/examples/pylab_examples/contour_demo.html) function for this."
   ]
  },
  {
   "cell_type": "markdown",
   "metadata": {},
   "source": [
    "---"
   ]
  },
  {
   "cell_type": "raw",
   "metadata": {},
   "source": [
    "Please ignore the cell below. It just loads our style for the notebooks."
   ]
  },
  {
   "cell_type": "code",
   "execution_count": null,
   "metadata": {
    "collapsed": false
   },
   "outputs": [],
   "source": [
    "from IPython.core.display import HTML\n",
    "def css_styling():\n",
    "    styles = open('../styles/custom.css', 'r').read()\n",
    "    return HTML(styles)\n",
    "css_styling()"
   ]
  }
 ],
 "metadata": {
  "kernelspec": {
   "display_name": "Python 3",
   "language": "python",
   "name": "python3"
  },
  "language_info": {
   "codemirror_mode": {
    "name": "ipython",
    "version": 3
   },
   "file_extension": ".py",
   "mimetype": "text/x-python",
   "name": "python",
   "nbconvert_exporter": "python",
   "pygments_lexer": "ipython3",
   "version": "3.4.3"
  }
 },
 "nbformat": 4,
 "nbformat_minor": 0
}
